{
 "cells": [
  {
   "cell_type": "code",
   "execution_count": 1,
   "id": "48800722",
   "metadata": {},
   "outputs": [],
   "source": [
    "import pandas as pd\n",
    "import seaborn as sns\n",
    "import numpy as np\n",
    "import matplotlib.pyplot as plt\n",
    "import warnings\n",
    "warnings.filterwarnings(\"ignore\")"
   ]
  },
  {
   "cell_type": "code",
   "execution_count": 2,
   "id": "8ad17ca0",
   "metadata": {},
   "outputs": [],
   "source": [
    "#Colab derleyicisinden açmak için bu satırı çalıştırın\n",
    "#from google.colab import files\n",
    "#uploaded = files.upload()\n",
    "#import io\n",
    "#data = pd.read_csv(io.BytesIO(uploaded[\"NetflixOriginals.csv\"]),encoding=\"latin-1\")"
   ]
  },
  {
   "cell_type": "code",
   "execution_count": 4,
   "id": "436288ab",
   "metadata": {},
   "outputs": [],
   "source": [
    "data = pd.read_csv(\"NetflixOriginals.csv\",encoding='ISO-8859-1')\n",
    "#https://www.kaggle.com/datasets/luiscorter/netflix-original-films-imdb-scores"
   ]
  },
  {
   "cell_type": "code",
   "execution_count": 5,
   "id": "16b16bf3",
   "metadata": {
    "scrolled": true
   },
   "outputs": [
    {
     "data": {
      "text/html": [
       "<div>\n",
       "<style scoped>\n",
       "    .dataframe tbody tr th:only-of-type {\n",
       "        vertical-align: middle;\n",
       "    }\n",
       "\n",
       "    .dataframe tbody tr th {\n",
       "        vertical-align: top;\n",
       "    }\n",
       "\n",
       "    .dataframe thead th {\n",
       "        text-align: right;\n",
       "    }\n",
       "</style>\n",
       "<table border=\"1\" class=\"dataframe\">\n",
       "  <thead>\n",
       "    <tr style=\"text-align: right;\">\n",
       "      <th></th>\n",
       "      <th>Title</th>\n",
       "      <th>Genre</th>\n",
       "      <th>Premiere</th>\n",
       "      <th>Runtime</th>\n",
       "      <th>IMDB Score</th>\n",
       "      <th>Language</th>\n",
       "    </tr>\n",
       "  </thead>\n",
       "  <tbody>\n",
       "    <tr>\n",
       "      <th>0</th>\n",
       "      <td>Enter the Anime</td>\n",
       "      <td>Documentary</td>\n",
       "      <td>August 5, 2019</td>\n",
       "      <td>58</td>\n",
       "      <td>2.5</td>\n",
       "      <td>English/Japanese</td>\n",
       "    </tr>\n",
       "    <tr>\n",
       "      <th>1</th>\n",
       "      <td>Dark Forces</td>\n",
       "      <td>Thriller</td>\n",
       "      <td>August 21, 2020</td>\n",
       "      <td>81</td>\n",
       "      <td>2.6</td>\n",
       "      <td>Spanish</td>\n",
       "    </tr>\n",
       "    <tr>\n",
       "      <th>2</th>\n",
       "      <td>The App</td>\n",
       "      <td>Science fiction/Drama</td>\n",
       "      <td>December 26, 2019</td>\n",
       "      <td>79</td>\n",
       "      <td>2.6</td>\n",
       "      <td>Italian</td>\n",
       "    </tr>\n",
       "    <tr>\n",
       "      <th>3</th>\n",
       "      <td>The Open House</td>\n",
       "      <td>Horror thriller</td>\n",
       "      <td>January 19, 2018</td>\n",
       "      <td>94</td>\n",
       "      <td>3.2</td>\n",
       "      <td>English</td>\n",
       "    </tr>\n",
       "    <tr>\n",
       "      <th>4</th>\n",
       "      <td>Kaali Khuhi</td>\n",
       "      <td>Mystery</td>\n",
       "      <td>October 30, 2020</td>\n",
       "      <td>90</td>\n",
       "      <td>3.4</td>\n",
       "      <td>Hindi</td>\n",
       "    </tr>\n",
       "  </tbody>\n",
       "</table>\n",
       "</div>"
      ],
      "text/plain": [
       "             Title                  Genre           Premiere  Runtime  \\\n",
       "0  Enter the Anime            Documentary     August 5, 2019       58   \n",
       "1      Dark Forces               Thriller    August 21, 2020       81   \n",
       "2          The App  Science fiction/Drama  December 26, 2019       79   \n",
       "3   The Open House        Horror thriller   January 19, 2018       94   \n",
       "4      Kaali Khuhi                Mystery   October 30, 2020       90   \n",
       "\n",
       "   IMDB Score          Language  \n",
       "0         2.5  English/Japanese  \n",
       "1         2.6           Spanish  \n",
       "2         2.6           Italian  \n",
       "3         3.2           English  \n",
       "4         3.4             Hindi  "
      ]
     },
     "execution_count": 5,
     "metadata": {},
     "output_type": "execute_result"
    }
   ],
   "source": [
    "data.head()"
   ]
  },
  {
   "cell_type": "code",
   "execution_count": 6,
   "id": "540dbd43",
   "metadata": {},
   "outputs": [
    {
     "name": "stdout",
     "output_type": "stream",
     "text": [
      "                      Language     Runtime\n",
      "0                 English/Akan  136.000000\n",
      "1         Khmer/English/French  136.000000\n",
      "2                      Marathi  121.666667\n",
      "3               English/Korean  121.000000\n",
      "4              Spanish/Catalan  116.000000\n",
      "5                       Korean  115.833333\n",
      "6                        Hindi  115.787879\n",
      "7               English/Arabic  114.000000\n",
      "8                   Indonesian  103.777778\n",
      "9                      Turkish  101.800000\n",
      "10                       Malay  101.000000\n",
      "11                       Tamil  101.000000\n",
      "12                        Thai  101.000000\n",
      "13                       Dutch   99.666667\n",
      "14                      German   99.600000\n",
      "15                    Filipino   99.500000\n",
      "16                    Japanese   99.333333\n",
      "17                      Polish   98.666667\n",
      "18                     Italian   98.357143\n",
      "19             Spanish/English   96.000000\n",
      "20                     Spanish   93.387097\n",
      "21                      French   92.700000\n",
      "22                     English   91.817955\n",
      "23                  Portuguese   91.250000\n",
      "24    English/Ukranian/Russian   91.000000\n",
      "25  English/Taiwanese/Mandarin   91.000000\n",
      "26             English/Russian   90.000000\n",
      "27            English/Japanese   89.000000\n",
      "28              Spanish/Basque   89.000000\n",
      "29                     Swedish   86.000000\n",
      "30                   Norwegian   86.000000\n",
      "31                Thia/English   80.000000\n",
      "32            English/Mandarin   59.000000\n",
      "33                     Bengali   41.000000\n",
      "34             English/Swedish   40.000000\n",
      "35             English/Spanish   39.200000\n",
      "36               English/Hindi   32.500000\n",
      "37                    Georgian   23.000000\n"
     ]
    },
    {
     "data": {
      "image/png": "[encoded data removed]",
      "text/plain": [
       "<Figure size 432x288 with 1 Axes>"
      ]
     },
     "metadata": {
      "needs_background": "light"
     },
     "output_type": "display_data"
    }
   ],
   "source": [
    "#Veri setine göre uzun soluklu filmlerin dilleri\n",
    "data.groupby(\"Language\").agg({\"Runtime\": \"mean\"}).sort_values(by=\"Runtime\", ascending=False)\n",
    "longfilms = data.groupby(\"Language\").agg({\"Runtime\": \"mean\"}).sort_values(by=\"Runtime\", ascending=False)\n",
    "longfilms = longfilms.reset_index()\n",
    "print(longfilms)\n",
    "\n",
    "sns.barplot(x=longfilms.loc[(longfilms[\"Runtime\"] >0 )][\"Runtime\"], y=longfilms[\"Language\"])\n",
    "plt.show()"
   ]
  },
  {
   "cell_type": "code",
   "execution_count": 6,
   "id": "35cadfef",
   "metadata": {},
   "outputs": [],
   "source": [
    "data[\"Premiere\"] = pd.to_datetime(data[\"Premiere\"])"
   ]
  },
  {
   "cell_type": "code",
   "execution_count": 7,
   "id": "4805bd7c",
   "metadata": {},
   "outputs": [
    {
     "data": {
      "text/html": [
       "<div>\n",
       "<style scoped>\n",
       "    .dataframe tbody tr th:only-of-type {\n",
       "        vertical-align: middle;\n",
       "    }\n",
       "\n",
       "    .dataframe tbody tr th {\n",
       "        vertical-align: top;\n",
       "    }\n",
       "\n",
       "    .dataframe thead th {\n",
       "        text-align: right;\n",
       "    }\n",
       "</style>\n",
       "<table border=\"1\" class=\"dataframe\">\n",
       "  <thead>\n",
       "    <tr style=\"text-align: right;\">\n",
       "      <th></th>\n",
       "      <th>Title</th>\n",
       "      <th>Genre</th>\n",
       "      <th>Premiere</th>\n",
       "      <th>Runtime</th>\n",
       "      <th>IMDB Score</th>\n",
       "      <th>Language</th>\n",
       "    </tr>\n",
       "  </thead>\n",
       "  <tbody>\n",
       "    <tr>\n",
       "      <th>0</th>\n",
       "      <td>Enter the Anime</td>\n",
       "      <td>Documentary</td>\n",
       "      <td>2019-08-05</td>\n",
       "      <td>58</td>\n",
       "      <td>2.5</td>\n",
       "      <td>English/Japanese</td>\n",
       "    </tr>\n",
       "    <tr>\n",
       "      <th>15</th>\n",
       "      <td>After the Raid</td>\n",
       "      <td>Documentary</td>\n",
       "      <td>2019-12-19</td>\n",
       "      <td>25</td>\n",
       "      <td>4.3</td>\n",
       "      <td>Spanish</td>\n",
       "    </tr>\n",
       "    <tr>\n",
       "      <th>20</th>\n",
       "      <td>Hello Privilege. It's Me, Chelsea</td>\n",
       "      <td>Documentary</td>\n",
       "      <td>2019-09-13</td>\n",
       "      <td>64</td>\n",
       "      <td>4.4</td>\n",
       "      <td>English</td>\n",
       "    </tr>\n",
       "    <tr>\n",
       "      <th>30</th>\n",
       "      <td>After Maria</td>\n",
       "      <td>Documentary</td>\n",
       "      <td>2019-05-24</td>\n",
       "      <td>37</td>\n",
       "      <td>4.6</td>\n",
       "      <td>English/Spanish</td>\n",
       "    </tr>\n",
       "    <tr>\n",
       "      <th>36</th>\n",
       "      <td>We Are One</td>\n",
       "      <td>Documentary</td>\n",
       "      <td>2020-07-14</td>\n",
       "      <td>86</td>\n",
       "      <td>4.6</td>\n",
       "      <td>French</td>\n",
       "    </tr>\n",
       "  </tbody>\n",
       "</table>\n",
       "</div>"
      ],
      "text/plain": [
       "                                Title        Genre   Premiere  Runtime  \\\n",
       "0                     Enter the Anime  Documentary 2019-08-05       58   \n",
       "15                     After the Raid  Documentary 2019-12-19       25   \n",
       "20  Hello Privilege. It's Me, Chelsea  Documentary 2019-09-13       64   \n",
       "30                        After Maria  Documentary 2019-05-24       37   \n",
       "36                         We Are One  Documentary 2020-07-14       86   \n",
       "\n",
       "    IMDB Score          Language  \n",
       "0          2.5  English/Japanese  \n",
       "15         4.3           Spanish  \n",
       "20         4.4           English  \n",
       "30         4.6   English/Spanish  \n",
       "36         4.6            French  "
      ]
     },
     "execution_count": 7,
     "metadata": {},
     "output_type": "execute_result"
    }
   ],
   "source": [
    "#2019 Ocak-2020 Haziran tarihleri arasında \"Documentary\" türündeki filmler\n",
    "documentary_2019_2020_imdb=data[(data[\"Premiere\"]>=\"2019-01-01\")&(data[\"Premiere\"]<=\"2020-07-31\")&(data[\"Genre\"]==\"Documentary\")]\n",
    "documentary_2019_2020_imdb.head()"
   ]
  },
  {
   "cell_type": "code",
   "execution_count": 8,
   "id": "7116bd1a",
   "metadata": {},
   "outputs": [
    {
     "data": {
      "text/plain": [
       "Text(0.5, 1.0, 'Documentary films & IMDB (January 2019 - June 2020)')"
      ]
     },
     "execution_count": 8,
     "metadata": {},
     "output_type": "execute_result"
    },
    {
     "data": {
      "image/png": "[encoded data removed]",
      "text/plain": [
       "<Figure size 432x288 with 1 Axes>"
      ]
     },
     "metadata": {
      "needs_background": "light"
     },
     "output_type": "display_data"
    }
   ],
   "source": [
    "#IMDB GRAFİK\n",
    "plt.scatter(x=\"IMDB Score\", y=\"Premiere\", data = documentary_2019_2020_imdb)\n",
    "plt.xlabel(\"IMDB Score\")\n",
    "plt.ylabel(\"Premiere\")\n",
    "plt.title(\"Documentary films & IMDB (January 2019 - June 2020)\")"
   ]
  },
  {
   "cell_type": "code",
   "execution_count": 9,
   "id": "6a7b29c0",
   "metadata": {},
   "outputs": [
    {
     "data": {
      "text/plain": [
       "'Documentary'"
      ]
     },
     "execution_count": 9,
     "metadata": {},
     "output_type": "execute_result"
    }
   ],
   "source": [
    "#İngilizce dilinde çekilen en yüksek IMDB puanlı film türü\n",
    "ing_en_yuksek_imdb = data[data[\"Language\"] == \"English\"].sort_values(by = \"IMDB Score\", ascending = False)\n",
    "ing_en_yuksek_imdb = ing_en_yuksek_imdb.head(1)[\"Genre\"].values[0]\n",
    "ing_en_yuksek_imdb"
   ]
  },
  {
   "cell_type": "code",
   "execution_count": 10,
   "id": "ff8976c7",
   "metadata": {},
   "outputs": [
    {
     "name": "stdout",
     "output_type": "stream",
     "text": [
      "115.78787878787878\n"
     ]
    }
   ],
   "source": [
    "#Hindi dilinde çekilen filmlerin ortalama runtime süresi\n",
    "hindi_ort_runtime = data[data[\"Language\"] == \"Hindi\"][\"Runtime\"].mean()\n",
    "print(hindi_ort_runtime)"
   ]
  },
  {
   "cell_type": "code",
   "execution_count": 11,
   "id": "5b5a5433",
   "metadata": {},
   "outputs": [
    {
     "data": {
      "text/plain": [
       "<bound method IndexOpsMixin.value_counts of 0                Documentary\n",
       "1                   Thriller\n",
       "2      Science fiction/Drama\n",
       "3            Horror thriller\n",
       "4                    Mystery\n",
       "               ...          \n",
       "579             Concert Film\n",
       "580              Documentary\n",
       "581             One-man show\n",
       "582              Documentary\n",
       "583              Documentary\n",
       "Name: Genre, Length: 584, dtype: object>"
      ]
     },
     "execution_count": 11,
     "metadata": {},
     "output_type": "execute_result"
    }
   ],
   "source": [
    "#Genre sütunundaki toplam kategori sayısı\n",
    "data[\"Genre\"].value_counts"
   ]
  },
  {
   "cell_type": "code",
   "execution_count": 12,
   "id": "924ffd24",
   "metadata": {},
   "outputs": [
    {
     "data": {
      "image/png": "[encoded data removed]",
      "text/plain": [
       "<Figure size 432x288 with 1 Axes>"
      ]
     },
     "metadata": {},
     "output_type": "display_data"
    }
   ],
   "source": [
    "sns.set_theme(style=\"dark\")\n",
    "ax = sns.countplot(x=\"Genre\", data=data)"
   ]
  },
  {
   "cell_type": "code",
   "execution_count": 13,
   "id": "024e9c7c",
   "metadata": {},
   "outputs": [
    {
     "data": {
      "text/plain": [
       "115"
      ]
     },
     "execution_count": 13,
     "metadata": {},
     "output_type": "execute_result"
    }
   ],
   "source": [
    "#Genre sütunundaki benzersiz kategori sayısı\n",
    "data[\"Genre\"].nunique()"
   ]
  },
  {
   "cell_type": "code",
   "execution_count": 14,
   "id": "d15c0f0b",
   "metadata": {},
   "outputs": [
    {
     "data": {
      "text/plain": [
       "English    401\n",
       "Hindi       33\n",
       "Spanish     31\n",
       "Name: Language, dtype: int64"
      ]
     },
     "execution_count": 14,
     "metadata": {},
     "output_type": "execute_result"
    }
   ],
   "source": [
    "#Veri setinde en çok kullanılan 3 dil\n",
    "diller = data[\"Language\"].value_counts()\n",
    "diller.head(3)"
   ]
  },
  {
   "cell_type": "code",
   "execution_count": 15,
   "id": "8d65f8db",
   "metadata": {},
   "outputs": [
    {
     "data": {
      "text/html": [
       "<div>\n",
       "<style scoped>\n",
       "    .dataframe tbody tr th:only-of-type {\n",
       "        vertical-align: middle;\n",
       "    }\n",
       "\n",
       "    .dataframe tbody tr th {\n",
       "        vertical-align: top;\n",
       "    }\n",
       "\n",
       "    .dataframe thead th {\n",
       "        text-align: right;\n",
       "    }\n",
       "</style>\n",
       "<table border=\"1\" class=\"dataframe\">\n",
       "  <thead>\n",
       "    <tr style=\"text-align: right;\">\n",
       "      <th></th>\n",
       "      <th>Title</th>\n",
       "      <th>Genre</th>\n",
       "      <th>Premiere</th>\n",
       "      <th>Runtime</th>\n",
       "      <th>IMDB Score</th>\n",
       "      <th>Language</th>\n",
       "    </tr>\n",
       "  </thead>\n",
       "  <tbody>\n",
       "    <tr>\n",
       "      <th>583</th>\n",
       "      <td>David Attenborough: A Life on Our Planet</td>\n",
       "      <td>Documentary</td>\n",
       "      <td>2020-10-04</td>\n",
       "      <td>83</td>\n",
       "      <td>9.0</td>\n",
       "      <td>English</td>\n",
       "    </tr>\n",
       "    <tr>\n",
       "      <th>582</th>\n",
       "      <td>Emicida: AmarElo - It's All For Yesterday</td>\n",
       "      <td>Documentary</td>\n",
       "      <td>2020-12-08</td>\n",
       "      <td>89</td>\n",
       "      <td>8.6</td>\n",
       "      <td>Portuguese</td>\n",
       "    </tr>\n",
       "    <tr>\n",
       "      <th>581</th>\n",
       "      <td>Springsteen on Broadway</td>\n",
       "      <td>One-man show</td>\n",
       "      <td>2018-12-16</td>\n",
       "      <td>153</td>\n",
       "      <td>8.5</td>\n",
       "      <td>English</td>\n",
       "    </tr>\n",
       "    <tr>\n",
       "      <th>580</th>\n",
       "      <td>Winter on Fire: Ukraine's Fight for Freedom</td>\n",
       "      <td>Documentary</td>\n",
       "      <td>2015-10-09</td>\n",
       "      <td>91</td>\n",
       "      <td>8.4</td>\n",
       "      <td>English/Ukranian/Russian</td>\n",
       "    </tr>\n",
       "    <tr>\n",
       "      <th>579</th>\n",
       "      <td>Taylor Swift: Reputation Stadium Tour</td>\n",
       "      <td>Concert Film</td>\n",
       "      <td>2018-12-31</td>\n",
       "      <td>125</td>\n",
       "      <td>8.4</td>\n",
       "      <td>English</td>\n",
       "    </tr>\n",
       "    <tr>\n",
       "      <th>578</th>\n",
       "      <td>Ben Platt: Live from Radio City Music Hall</td>\n",
       "      <td>Concert Film</td>\n",
       "      <td>2020-05-20</td>\n",
       "      <td>85</td>\n",
       "      <td>8.4</td>\n",
       "      <td>English</td>\n",
       "    </tr>\n",
       "    <tr>\n",
       "      <th>577</th>\n",
       "      <td>Dancing with the Birds</td>\n",
       "      <td>Documentary</td>\n",
       "      <td>2019-10-23</td>\n",
       "      <td>51</td>\n",
       "      <td>8.3</td>\n",
       "      <td>English</td>\n",
       "    </tr>\n",
       "    <tr>\n",
       "      <th>576</th>\n",
       "      <td>Cuba and the Cameraman</td>\n",
       "      <td>Documentary</td>\n",
       "      <td>2017-11-24</td>\n",
       "      <td>114</td>\n",
       "      <td>8.3</td>\n",
       "      <td>English</td>\n",
       "    </tr>\n",
       "    <tr>\n",
       "      <th>573</th>\n",
       "      <td>Klaus</td>\n",
       "      <td>Animation/Christmas/Comedy/Adventure</td>\n",
       "      <td>2019-11-15</td>\n",
       "      <td>97</td>\n",
       "      <td>8.2</td>\n",
       "      <td>English</td>\n",
       "    </tr>\n",
       "    <tr>\n",
       "      <th>571</th>\n",
       "      <td>13th</td>\n",
       "      <td>Documentary</td>\n",
       "      <td>2016-10-07</td>\n",
       "      <td>100</td>\n",
       "      <td>8.2</td>\n",
       "      <td>English</td>\n",
       "    </tr>\n",
       "  </tbody>\n",
       "</table>\n",
       "</div>"
      ],
      "text/plain": [
       "                                           Title  \\\n",
       "583     David Attenborough: A Life on Our Planet   \n",
       "582    Emicida: AmarElo - It's All For Yesterday   \n",
       "581                      Springsteen on Broadway   \n",
       "580  Winter on Fire: Ukraine's Fight for Freedom   \n",
       "579        Taylor Swift: Reputation Stadium Tour   \n",
       "578   Ben Platt: Live from Radio City Music Hall   \n",
       "577                       Dancing with the Birds   \n",
       "576                      Cuba and the Cameraman    \n",
       "573                                        Klaus   \n",
       "571                                         13th   \n",
       "\n",
       "                                    Genre   Premiere  Runtime  IMDB Score  \\\n",
       "583                           Documentary 2020-10-04       83         9.0   \n",
       "582                           Documentary 2020-12-08       89         8.6   \n",
       "581                          One-man show 2018-12-16      153         8.5   \n",
       "580                           Documentary 2015-10-09       91         8.4   \n",
       "579                          Concert Film 2018-12-31      125         8.4   \n",
       "578                          Concert Film 2020-05-20       85         8.4   \n",
       "577                           Documentary 2019-10-23       51         8.3   \n",
       "576                           Documentary 2017-11-24      114         8.3   \n",
       "573  Animation/Christmas/Comedy/Adventure 2019-11-15       97         8.2   \n",
       "571                           Documentary 2016-10-07      100         8.2   \n",
       "\n",
       "                     Language  \n",
       "583                   English  \n",
       "582                Portuguese  \n",
       "581                   English  \n",
       "580  English/Ukranian/Russian  \n",
       "579                   English  \n",
       "578                   English  \n",
       "577                   English  \n",
       "576                   English  \n",
       "573                   English  \n",
       "571                   English  "
      ]
     },
     "execution_count": 15,
     "metadata": {},
     "output_type": "execute_result"
    }
   ],
   "source": [
    "#IMDB puanı en yüksek 10 film\n",
    "top_ten = data.sort_values(by=\"IMDB Score\", ascending=False)\n",
    "top_ten.head(10)"
   ]
  },
  {
   "cell_type": "code",
   "execution_count": 16,
   "id": "b23b87f4",
   "metadata": {},
   "outputs": [
    {
     "data": {
      "text/html": [
       "<div>\n",
       "<style scoped>\n",
       "    .dataframe tbody tr th:only-of-type {\n",
       "        vertical-align: middle;\n",
       "    }\n",
       "\n",
       "    .dataframe tbody tr th {\n",
       "        vertical-align: top;\n",
       "    }\n",
       "\n",
       "    .dataframe thead th {\n",
       "        text-align: right;\n",
       "    }\n",
       "</style>\n",
       "<table border=\"1\" class=\"dataframe\">\n",
       "  <thead>\n",
       "    <tr style=\"text-align: right;\">\n",
       "      <th></th>\n",
       "      <th>Runtime</th>\n",
       "      <th>IMDB Score</th>\n",
       "    </tr>\n",
       "  </thead>\n",
       "  <tbody>\n",
       "    <tr>\n",
       "      <th>Runtime</th>\n",
       "      <td>1.000000</td>\n",
       "      <td>-0.040896</td>\n",
       "    </tr>\n",
       "    <tr>\n",
       "      <th>IMDB Score</th>\n",
       "      <td>-0.040896</td>\n",
       "      <td>1.000000</td>\n",
       "    </tr>\n",
       "  </tbody>\n",
       "</table>\n",
       "</div>"
      ],
      "text/plain": [
       "             Runtime  IMDB Score\n",
       "Runtime     1.000000   -0.040896\n",
       "IMDB Score -0.040896    1.000000"
      ]
     },
     "execution_count": 16,
     "metadata": {},
     "output_type": "execute_result"
    }
   ],
   "source": [
    "data_korelasyon = data.corr()\n",
    "data_korelasyon"
   ]
  },
  {
   "cell_type": "code",
   "execution_count": 17,
   "id": "68197a12",
   "metadata": {},
   "outputs": [
    {
     "data": {
      "text/plain": [
       "Text(0.5, 1.0, 'IMDB Score ile Runtime korelasyonu')"
      ]
     },
     "execution_count": 17,
     "metadata": {},
     "output_type": "execute_result"
    },
    {
     "data": {
      "image/png": "[encoded data removed]",
      "text/plain": [
       "<Figure size 432x288 with 1 Axes>"
      ]
     },
     "metadata": {},
     "output_type": "display_data"
    }
   ],
   "source": [
    "#IMDB puanı ile Runtime arasındaki korelasyon\n",
    "sns.scatterplot(data=data, x=\"Runtime\", y=\"IMDB Score\")\n",
    "plt.xlabel(\"Runtime\")\n",
    "plt.ylabel(\"IMDB Score\")\n",
    "plt.title(\"IMDB Score ile Runtime korelasyonu\")"
   ]
  },
  {
   "cell_type": "code",
   "execution_count": 18,
   "id": "7967278a",
   "metadata": {},
   "outputs": [
    {
     "data": {
      "text/html": [
       "<div>\n",
       "<style scoped>\n",
       "    .dataframe tbody tr th:only-of-type {\n",
       "        vertical-align: middle;\n",
       "    }\n",
       "\n",
       "    .dataframe tbody tr th {\n",
       "        vertical-align: top;\n",
       "    }\n",
       "\n",
       "    .dataframe thead th {\n",
       "        text-align: right;\n",
       "    }\n",
       "</style>\n",
       "<table border=\"1\" class=\"dataframe\">\n",
       "  <thead>\n",
       "    <tr style=\"text-align: right;\">\n",
       "      <th></th>\n",
       "      <th>Title</th>\n",
       "      <th>Genre</th>\n",
       "      <th>Premiere</th>\n",
       "      <th>Runtime</th>\n",
       "      <th>IMDB Score</th>\n",
       "      <th>Language</th>\n",
       "    </tr>\n",
       "  </thead>\n",
       "  <tbody>\n",
       "    <tr>\n",
       "      <th>583</th>\n",
       "      <td>David Attenborough: A Life on Our Planet</td>\n",
       "      <td>Documentary</td>\n",
       "      <td>2020-10-04</td>\n",
       "      <td>83</td>\n",
       "      <td>9.0</td>\n",
       "      <td>English</td>\n",
       "    </tr>\n",
       "    <tr>\n",
       "      <th>582</th>\n",
       "      <td>Emicida: AmarElo - It's All For Yesterday</td>\n",
       "      <td>Documentary</td>\n",
       "      <td>2020-12-08</td>\n",
       "      <td>89</td>\n",
       "      <td>8.6</td>\n",
       "      <td>Portuguese</td>\n",
       "    </tr>\n",
       "    <tr>\n",
       "      <th>581</th>\n",
       "      <td>Springsteen on Broadway</td>\n",
       "      <td>One-man show</td>\n",
       "      <td>2018-12-16</td>\n",
       "      <td>153</td>\n",
       "      <td>8.5</td>\n",
       "      <td>English</td>\n",
       "    </tr>\n",
       "    <tr>\n",
       "      <th>580</th>\n",
       "      <td>Winter on Fire: Ukraine's Fight for Freedom</td>\n",
       "      <td>Documentary</td>\n",
       "      <td>2015-10-09</td>\n",
       "      <td>91</td>\n",
       "      <td>8.4</td>\n",
       "      <td>English/Ukranian/Russian</td>\n",
       "    </tr>\n",
       "    <tr>\n",
       "      <th>579</th>\n",
       "      <td>Taylor Swift: Reputation Stadium Tour</td>\n",
       "      <td>Concert Film</td>\n",
       "      <td>2018-12-31</td>\n",
       "      <td>125</td>\n",
       "      <td>8.4</td>\n",
       "      <td>English</td>\n",
       "    </tr>\n",
       "  </tbody>\n",
       "</table>\n",
       "</div>"
      ],
      "text/plain": [
       "                                           Title         Genre   Premiere  \\\n",
       "583     David Attenborough: A Life on Our Planet   Documentary 2020-10-04   \n",
       "582    Emicida: AmarElo - It's All For Yesterday   Documentary 2020-12-08   \n",
       "581                      Springsteen on Broadway  One-man show 2018-12-16   \n",
       "580  Winter on Fire: Ukraine's Fight for Freedom   Documentary 2015-10-09   \n",
       "579        Taylor Swift: Reputation Stadium Tour  Concert Film 2018-12-31   \n",
       "\n",
       "     Runtime  IMDB Score                  Language  \n",
       "583       83         9.0                   English  \n",
       "582       89         8.6                Portuguese  \n",
       "581      153         8.5                   English  \n",
       "580       91         8.4  English/Ukranian/Russian  \n",
       "579      125         8.4                   English  "
      ]
     },
     "execution_count": 18,
     "metadata": {},
     "output_type": "execute_result"
    }
   ],
   "source": [
    "top_ten_genre = data.sort_values(by=\"IMDB Score\",ascending=False)\n",
    "top_ten_genre.head()"
   ]
  },
  {
   "cell_type": "code",
   "execution_count": 19,
   "id": "fbd8388c",
   "metadata": {},
   "outputs": [],
   "source": [
    "top_ten_genre_list = top_ten_genre[\"Genre\"].unique()[:10]"
   ]
  },
  {
   "cell_type": "code",
   "execution_count": 20,
   "id": "38cff621",
   "metadata": {},
   "outputs": [],
   "source": [
    "genre_imdb={}\n",
    "for genre in top_ten_genre_list:\n",
    "    genre_imdb.update({genre: top_ten_genre[top_ten_genre[\"Genre\"]==genre][\"IMDB Score\"].max()})"
   ]
  },
  {
   "cell_type": "code",
   "execution_count": 21,
   "id": "5af7c19d",
   "metadata": {},
   "outputs": [
    {
     "data": {
      "image/png": "[encoded data removed]",
      "text/plain": [
       "<Figure size 576x360 with 1 Axes>"
      ]
     },
     "metadata": {},
     "output_type": "display_data"
    }
   ],
   "source": [
    "#IMDB Puanı en yüksek olan ilk 10 'Genre'\n",
    "x=list(genre_imdb.values())\n",
    "y=list(genre_imdb.keys())\n",
    "\n",
    "plt.figure(figsize=(8,5))\n",
    "sns.barplot(x,y)\n",
    "plt.xlabel(\"Türlerin Max Puanı\")\n",
    "plt.ylabel(\"Türler\")\n",
    "plt.title(\"IMDB puanı en yüksek 10 tür\")\n",
    "plt.xticks([0,1,2,3,4,5,6,7,8,9])\n",
    "plt.show()"
   ]
  },
  {
   "cell_type": "code",
   "execution_count": 22,
   "id": "3fd913f5",
   "metadata": {},
   "outputs": [],
   "source": [
    "top_ten_runtime = data.sort_values(by=\"Runtime\", ascending = False).head(10)"
   ]
  },
  {
   "cell_type": "code",
   "execution_count": 23,
   "id": "1fe36e86",
   "metadata": {},
   "outputs": [
    {
     "data": {
      "text/html": [
       "<div>\n",
       "<style scoped>\n",
       "    .dataframe tbody tr th:only-of-type {\n",
       "        vertical-align: middle;\n",
       "    }\n",
       "\n",
       "    .dataframe tbody tr th {\n",
       "        vertical-align: top;\n",
       "    }\n",
       "\n",
       "    .dataframe thead th {\n",
       "        text-align: right;\n",
       "    }\n",
       "</style>\n",
       "<table border=\"1\" class=\"dataframe\">\n",
       "  <thead>\n",
       "    <tr style=\"text-align: right;\">\n",
       "      <th></th>\n",
       "      <th>Title</th>\n",
       "      <th>Genre</th>\n",
       "      <th>Premiere</th>\n",
       "      <th>Runtime</th>\n",
       "      <th>IMDB Score</th>\n",
       "      <th>Language</th>\n",
       "    </tr>\n",
       "  </thead>\n",
       "  <tbody>\n",
       "    <tr>\n",
       "      <th>561</th>\n",
       "      <td>The Irishman</td>\n",
       "      <td>Crime drama</td>\n",
       "      <td>2019-11-27</td>\n",
       "      <td>209</td>\n",
       "      <td>7.8</td>\n",
       "      <td>English</td>\n",
       "    </tr>\n",
       "    <tr>\n",
       "      <th>328</th>\n",
       "      <td>Da 5 Bloods</td>\n",
       "      <td>War drama</td>\n",
       "      <td>2020-06-12</td>\n",
       "      <td>155</td>\n",
       "      <td>6.5</td>\n",
       "      <td>English</td>\n",
       "    </tr>\n",
       "    <tr>\n",
       "      <th>581</th>\n",
       "      <td>Springsteen on Broadway</td>\n",
       "      <td>One-man show</td>\n",
       "      <td>2018-12-16</td>\n",
       "      <td>153</td>\n",
       "      <td>8.5</td>\n",
       "      <td>English</td>\n",
       "    </tr>\n",
       "    <tr>\n",
       "      <th>247</th>\n",
       "      <td>Citation</td>\n",
       "      <td>Drama</td>\n",
       "      <td>2020-11-06</td>\n",
       "      <td>151</td>\n",
       "      <td>6.2</td>\n",
       "      <td>English</td>\n",
       "    </tr>\n",
       "    <tr>\n",
       "      <th>284</th>\n",
       "      <td>The Forest of Love</td>\n",
       "      <td>Drama</td>\n",
       "      <td>2019-10-11</td>\n",
       "      <td>151</td>\n",
       "      <td>6.3</td>\n",
       "      <td>Japanese</td>\n",
       "    </tr>\n",
       "    <tr>\n",
       "      <th>509</th>\n",
       "      <td>Raat Akeli Hai</td>\n",
       "      <td>Thriller</td>\n",
       "      <td>2020-07-31</td>\n",
       "      <td>149</td>\n",
       "      <td>7.3</td>\n",
       "      <td>Hindi</td>\n",
       "    </tr>\n",
       "    <tr>\n",
       "      <th>7</th>\n",
       "      <td>The Last Days of American Crime</td>\n",
       "      <td>Heist film/Thriller</td>\n",
       "      <td>2020-06-05</td>\n",
       "      <td>149</td>\n",
       "      <td>3.7</td>\n",
       "      <td>English</td>\n",
       "    </tr>\n",
       "    <tr>\n",
       "      <th>543</th>\n",
       "      <td>Ludo</td>\n",
       "      <td>Anthology/Dark comedy</td>\n",
       "      <td>2020-11-12</td>\n",
       "      <td>149</td>\n",
       "      <td>7.6</td>\n",
       "      <td>Hindi</td>\n",
       "    </tr>\n",
       "    <tr>\n",
       "      <th>194</th>\n",
       "      <td>Army of the Dead</td>\n",
       "      <td>Zombie/Heist</td>\n",
       "      <td>2021-05-21</td>\n",
       "      <td>148</td>\n",
       "      <td>5.9</td>\n",
       "      <td>English</td>\n",
       "    </tr>\n",
       "    <tr>\n",
       "      <th>5</th>\n",
       "      <td>Drive</td>\n",
       "      <td>Action</td>\n",
       "      <td>2019-11-01</td>\n",
       "      <td>147</td>\n",
       "      <td>3.5</td>\n",
       "      <td>Hindi</td>\n",
       "    </tr>\n",
       "  </tbody>\n",
       "</table>\n",
       "</div>"
      ],
      "text/plain": [
       "                               Title                  Genre   Premiere  \\\n",
       "561                     The Irishman            Crime drama 2019-11-27   \n",
       "328                      Da 5 Bloods              War drama 2020-06-12   \n",
       "581          Springsteen on Broadway           One-man show 2018-12-16   \n",
       "247                         Citation                  Drama 2020-11-06   \n",
       "284               The Forest of Love                  Drama 2019-10-11   \n",
       "509                   Raat Akeli Hai               Thriller 2020-07-31   \n",
       "7    The Last Days of American Crime    Heist film/Thriller 2020-06-05   \n",
       "543                             Ludo  Anthology/Dark comedy 2020-11-12   \n",
       "194                 Army of the Dead           Zombie/Heist 2021-05-21   \n",
       "5                              Drive                 Action 2019-11-01   \n",
       "\n",
       "     Runtime  IMDB Score  Language  \n",
       "561      209         7.8   English  \n",
       "328      155         6.5   English  \n",
       "581      153         8.5   English  \n",
       "247      151         6.2   English  \n",
       "284      151         6.3  Japanese  \n",
       "509      149         7.3     Hindi  \n",
       "7        149         3.7   English  \n",
       "543      149         7.6     Hindi  \n",
       "194      148         5.9   English  \n",
       "5        147         3.5     Hindi  "
      ]
     },
     "execution_count": 23,
     "metadata": {},
     "output_type": "execute_result"
    }
   ],
   "source": [
    "top_ten_runtime"
   ]
  },
  {
   "cell_type": "code",
   "execution_count": 24,
   "id": "88ac019a",
   "metadata": {},
   "outputs": [
    {
     "data": {
      "text/plain": [
       "<AxesSubplot:xlabel='Runtime', ylabel='Title'>"
      ]
     },
     "execution_count": 24,
     "metadata": {},
     "output_type": "execute_result"
    },
    {
     "data": {
      "image/png": "[encoded data removed]",
      "text/plain": [
       "<Figure size 432x288 with 1 Axes>"
      ]
     },
     "metadata": {},
     "output_type": "display_data"
    }
   ],
   "source": [
    "#En uzun 10 film\n",
    "sns.barplot(data = top_ten_runtime, x=\"Runtime\", y=\"Title\")"
   ]
  },
  {
   "cell_type": "code",
   "execution_count": 25,
   "id": "09278c07",
   "metadata": {
    "scrolled": false
   },
   "outputs": [
    {
     "data": {
      "text/html": [
       "<div>\n",
       "<style scoped>\n",
       "    .dataframe tbody tr th:only-of-type {\n",
       "        vertical-align: middle;\n",
       "    }\n",
       "\n",
       "    .dataframe tbody tr th {\n",
       "        vertical-align: top;\n",
       "    }\n",
       "\n",
       "    .dataframe thead th {\n",
       "        text-align: right;\n",
       "    }\n",
       "</style>\n",
       "<table border=\"1\" class=\"dataframe\">\n",
       "  <thead>\n",
       "    <tr style=\"text-align: right;\">\n",
       "      <th></th>\n",
       "      <th>Title</th>\n",
       "      <th>Genre</th>\n",
       "      <th>Premiere</th>\n",
       "      <th>Runtime</th>\n",
       "      <th>IMDB Score</th>\n",
       "      <th>Language</th>\n",
       "    </tr>\n",
       "  </thead>\n",
       "  <tbody>\n",
       "    <tr>\n",
       "      <th>304</th>\n",
       "      <td>My Own Man</td>\n",
       "      <td>Documentary</td>\n",
       "      <td>2014-12-13</td>\n",
       "      <td>81</td>\n",
       "      <td>6.4</td>\n",
       "      <td>English</td>\n",
       "    </tr>\n",
       "    <tr>\n",
       "      <th>519</th>\n",
       "      <td>The Other One: The Long Strange Trip of Bob Weir</td>\n",
       "      <td>Documentary</td>\n",
       "      <td>2015-05-22</td>\n",
       "      <td>83</td>\n",
       "      <td>7.3</td>\n",
       "      <td>English</td>\n",
       "    </tr>\n",
       "    <tr>\n",
       "      <th>228</th>\n",
       "      <td>Hot Girls Wanted</td>\n",
       "      <td>Documentary</td>\n",
       "      <td>2015-05-29</td>\n",
       "      <td>84</td>\n",
       "      <td>6.1</td>\n",
       "      <td>English</td>\n",
       "    </tr>\n",
       "    <tr>\n",
       "      <th>550</th>\n",
       "      <td>What Happened, Miss Simone?</td>\n",
       "      <td>Documentary</td>\n",
       "      <td>2015-06-26</td>\n",
       "      <td>84</td>\n",
       "      <td>7.6</td>\n",
       "      <td>English</td>\n",
       "    </tr>\n",
       "    <tr>\n",
       "      <th>531</th>\n",
       "      <td>Tig</td>\n",
       "      <td>Documentary</td>\n",
       "      <td>2015-07-17</td>\n",
       "      <td>80</td>\n",
       "      <td>7.4</td>\n",
       "      <td>English</td>\n",
       "    </tr>\n",
       "    <tr>\n",
       "      <th>...</th>\n",
       "      <td>...</td>\n",
       "      <td>...</td>\n",
       "      <td>...</td>\n",
       "      <td>...</td>\n",
       "      <td>...</td>\n",
       "      <td>...</td>\n",
       "    </tr>\n",
       "    <tr>\n",
       "      <th>194</th>\n",
       "      <td>Army of the Dead</td>\n",
       "      <td>Zombie/Heist</td>\n",
       "      <td>2021-05-21</td>\n",
       "      <td>148</td>\n",
       "      <td>5.9</td>\n",
       "      <td>English</td>\n",
       "    </tr>\n",
       "    <tr>\n",
       "      <th>245</th>\n",
       "      <td>Baggio: The Divine Ponytail</td>\n",
       "      <td>Biopic</td>\n",
       "      <td>2021-05-26</td>\n",
       "      <td>92</td>\n",
       "      <td>6.2</td>\n",
       "      <td>Italian</td>\n",
       "    </tr>\n",
       "    <tr>\n",
       "      <th>71</th>\n",
       "      <td>Ghost Lab</td>\n",
       "      <td>Horror</td>\n",
       "      <td>2021-05-26</td>\n",
       "      <td>117</td>\n",
       "      <td>5.2</td>\n",
       "      <td>Thai</td>\n",
       "    </tr>\n",
       "    <tr>\n",
       "      <th>275</th>\n",
       "      <td>Nail Bomber: Manhunt</td>\n",
       "      <td>Documentary</td>\n",
       "      <td>2021-05-26</td>\n",
       "      <td>72</td>\n",
       "      <td>6.3</td>\n",
       "      <td>English</td>\n",
       "    </tr>\n",
       "    <tr>\n",
       "      <th>369</th>\n",
       "      <td>Blue Miracle</td>\n",
       "      <td>Drama</td>\n",
       "      <td>2021-05-27</td>\n",
       "      <td>95</td>\n",
       "      <td>6.7</td>\n",
       "      <td>English</td>\n",
       "    </tr>\n",
       "  </tbody>\n",
       "</table>\n",
       "<p>584 rows × 6 columns</p>\n",
       "</div>"
      ],
      "text/plain": [
       "                                                Title         Genre  \\\n",
       "304                                        My Own Man   Documentary   \n",
       "519  The Other One: The Long Strange Trip of Bob Weir   Documentary   \n",
       "228                                  Hot Girls Wanted   Documentary   \n",
       "550                       What Happened, Miss Simone?   Documentary   \n",
       "531                                               Tig   Documentary   \n",
       "..                                                ...           ...   \n",
       "194                                  Army of the Dead  Zombie/Heist   \n",
       "245                       Baggio: The Divine Ponytail        Biopic   \n",
       "71                                          Ghost Lab        Horror   \n",
       "275                              Nail Bomber: Manhunt   Documentary   \n",
       "369                                      Blue Miracle         Drama   \n",
       "\n",
       "      Premiere  Runtime  IMDB Score Language  \n",
       "304 2014-12-13       81         6.4  English  \n",
       "519 2015-05-22       83         7.3  English  \n",
       "228 2015-05-29       84         6.1  English  \n",
       "550 2015-06-26       84         7.6  English  \n",
       "531 2015-07-17       80         7.4  English  \n",
       "..         ...      ...         ...      ...  \n",
       "194 2021-05-21      148         5.9  English  \n",
       "245 2021-05-26       92         6.2  Italian  \n",
       "71  2021-05-26      117         5.2     Thai  \n",
       "275 2021-05-26       72         6.3  English  \n",
       "369 2021-05-27       95         6.7  English  \n",
       "\n",
       "[584 rows x 6 columns]"
      ]
     },
     "execution_count": 25,
     "metadata": {},
     "output_type": "execute_result"
    }
   ],
   "source": [
    "data.sort_values(by=\"Premiere\")"
   ]
  },
  {
   "cell_type": "code",
   "execution_count": 26,
   "id": "6bf66e17",
   "metadata": {},
   "outputs": [],
   "source": [
    "data=data.astype({'Premiere': 'str'})"
   ]
  },
  {
   "cell_type": "code",
   "execution_count": 27,
   "id": "97fb5bb5",
   "metadata": {},
   "outputs": [
    {
     "data": {
      "image/png": "[encoded data removed]",
      "text/plain": [
       "<Figure size 432x288 with 1 Axes>"
      ]
     },
     "metadata": {},
     "output_type": "display_data"
    }
   ],
   "source": [
    "#Hangi yılda en fazla film yayınlanmıştır\n",
    "data[\"Year\"]=[data[\"Premiere\"][i][0:4] for i in [*data.index]]\n",
    "\n",
    "sns.barplot(data[\"Year\"].value_counts().keys(), data[\"Year\"].value_counts())\n",
    "plt.show()"
   ]
  },
  {
   "cell_type": "code",
   "execution_count": 28,
   "id": "73a2d4c2",
   "metadata": {},
   "outputs": [
    {
     "name": "stdout",
     "output_type": "stream",
     "text": [
      "                      Language  IMDB Score\n",
      "0     English/Ukranian/Russian    8.400000\n",
      "1                 English/Akan    7.700000\n",
      "2                English/Hindi    7.300000\n",
      "3               English/Arabic    7.300000\n",
      "4               English/Korean    7.300000\n",
      "5              English/Russian    7.300000\n",
      "6              Spanish/English    7.300000\n",
      "7         Khmer/English/French    7.200000\n",
      "8                        Tamil    7.200000\n",
      "9                      Bengali    7.100000\n",
      "10            English/Mandarin    7.050000\n",
      "11                    Georgian    6.800000\n",
      "12                Thia/English    6.700000\n",
      "13  English/Taiwanese/Mandarin    6.500000\n",
      "14             English/Swedish    6.500000\n",
      "15             Spanish/Catalan    6.400000\n",
      "16                    Japanese    6.400000\n",
      "17                     English    6.380050\n",
      "18                     Spanish    6.303226\n",
      "19             English/Spanish    6.220000\n",
      "20                  Portuguese    6.216667\n",
      "21                     Marathi    6.066667\n",
      "22                       Hindi    5.981818\n",
      "23                      Korean    5.916667\n",
      "24                  Indonesian    5.844444\n",
      "25                       Dutch    5.800000\n",
      "26                      French    5.770000\n",
      "27                     Turkish    5.660000\n",
      "28                      German    5.640000\n",
      "29              Spanish/Basque    5.600000\n",
      "30                     Italian    5.542857\n",
      "31                     Swedish    5.500000\n",
      "32                        Thai    5.450000\n",
      "33                      Polish    5.166667\n",
      "34                   Norwegian    5.100000\n",
      "35                    Filipino    5.100000\n",
      "36            English/Japanese    4.400000\n",
      "37                       Malay    4.200000\n"
     ]
    },
    {
     "data": {
      "image/png": "[encoded data removed]",
      "text/plain": [
       "<Figure size 432x288 with 1 Axes>"
      ]
     },
     "metadata": {},
     "output_type": "display_data"
    }
   ],
   "source": [
    "#Hangi dilde yayımlanan filmler en düşük ortalama IMBD puanına sahiptir\n",
    "data.groupby(\"Language\").agg({\"IMDB Score\": \"mean\"}).sort_values(by=\"IMDB Score\", ascending=False)\n",
    "bestfilms = data.groupby(\"Language\").agg({\"IMDB Score\": \"mean\"}).sort_values(by=\"IMDB Score\", ascending=False)\n",
    "bestfilms = bestfilms.reset_index()\n",
    "print(bestfilms)\n",
    "\n",
    "sns.barplot(x=bestfilms.loc[(bestfilms[\"IMDB Score\"] >0 )][\"IMDB Score\"], y=bestfilms[\"Language\"])\n",
    "plt.show()"
   ]
  },
  {
   "cell_type": "code",
   "execution_count": 29,
   "id": "6c3e46d5",
   "metadata": {
    "scrolled": true
   },
   "outputs": [
    {
     "data": {
      "text/html": [
       "<div>\n",
       "<style scoped>\n",
       "    .dataframe tbody tr th:only-of-type {\n",
       "        vertical-align: middle;\n",
       "    }\n",
       "\n",
       "    .dataframe tbody tr th {\n",
       "        vertical-align: top;\n",
       "    }\n",
       "\n",
       "    .dataframe thead th {\n",
       "        text-align: right;\n",
       "    }\n",
       "</style>\n",
       "<table border=\"1\" class=\"dataframe\">\n",
       "  <thead>\n",
       "    <tr style=\"text-align: right;\">\n",
       "      <th></th>\n",
       "      <th>Runtime</th>\n",
       "    </tr>\n",
       "    <tr>\n",
       "      <th>Year</th>\n",
       "      <th></th>\n",
       "    </tr>\n",
       "  </thead>\n",
       "  <tbody>\n",
       "    <tr>\n",
       "      <th>2020</th>\n",
       "      <td>17384</td>\n",
       "    </tr>\n",
       "  </tbody>\n",
       "</table>\n",
       "</div>"
      ],
      "text/plain": [
       "      Runtime\n",
       "Year         \n",
       "2020    17384"
      ]
     },
     "execution_count": 29,
     "metadata": {},
     "output_type": "execute_result"
    }
   ],
   "source": [
    "#Toplam runtime süresi en fazla olan yıl\n",
    "data.groupby(\"Year\").agg({\"Runtime\": \"sum\"}).sort_values(by=\"Runtime\", ascending=False)[0:1]"
   ]
  },
  {
   "cell_type": "code",
   "execution_count": 30,
   "id": "abb7ddbd",
   "metadata": {},
   "outputs": [
    {
     "data": {
      "text/html": [
       "<div>\n",
       "<style scoped>\n",
       "    .dataframe tbody tr th:only-of-type {\n",
       "        vertical-align: middle;\n",
       "    }\n",
       "\n",
       "    .dataframe tbody tr th {\n",
       "        vertical-align: top;\n",
       "    }\n",
       "\n",
       "    .dataframe thead th {\n",
       "        text-align: right;\n",
       "    }\n",
       "</style>\n",
       "<table border=\"1\" class=\"dataframe\">\n",
       "  <thead>\n",
       "    <tr style=\"text-align: right;\">\n",
       "      <th></th>\n",
       "      <th>Genre</th>\n",
       "    </tr>\n",
       "    <tr>\n",
       "      <th>Language</th>\n",
       "      <th></th>\n",
       "    </tr>\n",
       "  </thead>\n",
       "  <tbody>\n",
       "    <tr>\n",
       "      <th>English/Akan</th>\n",
       "      <td>War drama</td>\n",
       "    </tr>\n",
       "    <tr>\n",
       "      <th>German</th>\n",
       "      <td>ThrillerSupernatural dramaSatireDramaRomantic ...</td>\n",
       "    </tr>\n",
       "    <tr>\n",
       "      <th>Spanish</th>\n",
       "      <td>ThrillerDocumentaryDramaThrillerDramaComedyThr...</td>\n",
       "    </tr>\n",
       "    <tr>\n",
       "      <th>Swedish</th>\n",
       "      <td>Thriller</td>\n",
       "    </tr>\n",
       "    <tr>\n",
       "      <th>Italian</th>\n",
       "      <td>Science fiction/DramaComedyComedyDramaDramaRom...</td>\n",
       "    </tr>\n",
       "    <tr>\n",
       "      <th>Dutch</th>\n",
       "      <td>Romantic comedyFantasyCrime drama</td>\n",
       "    </tr>\n",
       "    <tr>\n",
       "      <th>Indonesian</th>\n",
       "      <td>Romantic comedyDramaRomantic dramaDramaComedy-...</td>\n",
       "    </tr>\n",
       "    <tr>\n",
       "      <th>Japanese</th>\n",
       "      <td>Psychological thriller dramaDramaAnime/Science...</td>\n",
       "    </tr>\n",
       "    <tr>\n",
       "      <th>Hindi</th>\n",
       "      <td>MysteryActionComedyHorror anthologyThrillerThr...</td>\n",
       "    </tr>\n",
       "    <tr>\n",
       "      <th>Polish</th>\n",
       "      <td>HorrorRomantic comedyThriller</td>\n",
       "    </tr>\n",
       "    <tr>\n",
       "      <th>Thai</th>\n",
       "      <td>HorrorDocumentary</td>\n",
       "    </tr>\n",
       "    <tr>\n",
       "      <th>English</th>\n",
       "      <td>Horror thrillerHeist film/ThrillerMusical/West...</td>\n",
       "    </tr>\n",
       "    <tr>\n",
       "      <th>Norwegian</th>\n",
       "      <td>Horror</td>\n",
       "    </tr>\n",
       "    <tr>\n",
       "      <th>Filipino</th>\n",
       "      <td>DramaThriller</td>\n",
       "    </tr>\n",
       "    <tr>\n",
       "      <th>Korean</th>\n",
       "      <td>DramaComedyThrillerScience fictionDramaDocumen...</td>\n",
       "    </tr>\n",
       "    <tr>\n",
       "      <th>Marathi</th>\n",
       "      <td>DramaComedy-dramaDrama</td>\n",
       "    </tr>\n",
       "    <tr>\n",
       "      <th>English/Taiwanese/Mandarin</th>\n",
       "      <td>Drama</td>\n",
       "    </tr>\n",
       "    <tr>\n",
       "      <th>Tamil</th>\n",
       "      <td>Drama</td>\n",
       "    </tr>\n",
       "    <tr>\n",
       "      <th>Khmer/English/French</th>\n",
       "      <td>Drama</td>\n",
       "    </tr>\n",
       "    <tr>\n",
       "      <th>English/Spanish</th>\n",
       "      <td>DocumentaryDocumentaryDocumentaryDocumentaryDo...</td>\n",
       "    </tr>\n",
       "    <tr>\n",
       "      <th>English/Mandarin</th>\n",
       "      <td>DocumentaryDocumentary</td>\n",
       "    </tr>\n",
       "    <tr>\n",
       "      <th>English/Hindi</th>\n",
       "      <td>DocumentaryDocumentary</td>\n",
       "    </tr>\n",
       "    <tr>\n",
       "      <th>English/Japanese</th>\n",
       "      <td>DocumentaryCrime drama</td>\n",
       "    </tr>\n",
       "    <tr>\n",
       "      <th>Spanish/Catalan</th>\n",
       "      <td>Documentary</td>\n",
       "    </tr>\n",
       "    <tr>\n",
       "      <th>Thia/English</th>\n",
       "      <td>Documentary</td>\n",
       "    </tr>\n",
       "    <tr>\n",
       "      <th>Spanish/English</th>\n",
       "      <td>Documentary</td>\n",
       "    </tr>\n",
       "    <tr>\n",
       "      <th>Bengali</th>\n",
       "      <td>Documentary</td>\n",
       "    </tr>\n",
       "    <tr>\n",
       "      <th>Georgian</th>\n",
       "      <td>Documentary</td>\n",
       "    </tr>\n",
       "    <tr>\n",
       "      <th>English/Ukranian/Russian</th>\n",
       "      <td>Documentary</td>\n",
       "    </tr>\n",
       "    <tr>\n",
       "      <th>English/Swedish</th>\n",
       "      <td>Documentary</td>\n",
       "    </tr>\n",
       "    <tr>\n",
       "      <th>English/Russian</th>\n",
       "      <td>Documentary</td>\n",
       "    </tr>\n",
       "    <tr>\n",
       "      <th>English/Arabic</th>\n",
       "      <td>Documentary</td>\n",
       "    </tr>\n",
       "    <tr>\n",
       "      <th>Turkish</th>\n",
       "      <td>ComedyRomanceDramaComedyDrama</td>\n",
       "    </tr>\n",
       "    <tr>\n",
       "      <th>French</th>\n",
       "      <td>ComedyRomance dramaDocumentaryActionActionCome...</td>\n",
       "    </tr>\n",
       "    <tr>\n",
       "      <th>Portuguese</th>\n",
       "      <td>ComedyComedyComedyComedy-dramaRomantic comedyW...</td>\n",
       "    </tr>\n",
       "    <tr>\n",
       "      <th>Spanish/Basque</th>\n",
       "      <td>Black comedy</td>\n",
       "    </tr>\n",
       "    <tr>\n",
       "      <th>English/Korean</th>\n",
       "      <td>Action-adventure</td>\n",
       "    </tr>\n",
       "    <tr>\n",
       "      <th>Malay</th>\n",
       "      <td>Action comedy</td>\n",
       "    </tr>\n",
       "  </tbody>\n",
       "</table>\n",
       "</div>"
      ],
      "text/plain": [
       "                                                                        Genre\n",
       "Language                                                                     \n",
       "English/Akan                                                        War drama\n",
       "German                      ThrillerSupernatural dramaSatireDramaRomantic ...\n",
       "Spanish                     ThrillerDocumentaryDramaThrillerDramaComedyThr...\n",
       "Swedish                                                              Thriller\n",
       "Italian                     Science fiction/DramaComedyComedyDramaDramaRom...\n",
       "Dutch                                       Romantic comedyFantasyCrime drama\n",
       "Indonesian                  Romantic comedyDramaRomantic dramaDramaComedy-...\n",
       "Japanese                    Psychological thriller dramaDramaAnime/Science...\n",
       "Hindi                       MysteryActionComedyHorror anthologyThrillerThr...\n",
       "Polish                                          HorrorRomantic comedyThriller\n",
       "Thai                                                        HorrorDocumentary\n",
       "English                     Horror thrillerHeist film/ThrillerMusical/West...\n",
       "Norwegian                                                              Horror\n",
       "Filipino                                                        DramaThriller\n",
       "Korean                      DramaComedyThrillerScience fictionDramaDocumen...\n",
       "Marathi                                                DramaComedy-dramaDrama\n",
       "English/Taiwanese/Mandarin                                              Drama\n",
       "Tamil                                                                   Drama\n",
       "Khmer/English/French                                                    Drama\n",
       "English/Spanish             DocumentaryDocumentaryDocumentaryDocumentaryDo...\n",
       "English/Mandarin                                       DocumentaryDocumentary\n",
       "English/Hindi                                          DocumentaryDocumentary\n",
       "English/Japanese                                       DocumentaryCrime drama\n",
       "Spanish/Catalan                                                   Documentary\n",
       "Thia/English                                                      Documentary\n",
       "Spanish/English                                                   Documentary\n",
       "Bengali                                                           Documentary\n",
       "Georgian                                                          Documentary\n",
       "English/Ukranian/Russian                                          Documentary\n",
       "English/Swedish                                                   Documentary\n",
       "English/Russian                                                   Documentary\n",
       "English/Arabic                                                    Documentary\n",
       "Turkish                                         ComedyRomanceDramaComedyDrama\n",
       "French                      ComedyRomance dramaDocumentaryActionActionCome...\n",
       "Portuguese                  ComedyComedyComedyComedy-dramaRomantic comedyW...\n",
       "Spanish/Basque                                                   Black comedy\n",
       "English/Korean                                               Action-adventure\n",
       "Malay                                                           Action comedy"
      ]
     },
     "execution_count": 30,
     "metadata": {},
     "output_type": "execute_result"
    }
   ],
   "source": [
    "#Her bir dilin en fazla kullanıldığı Genre\n",
    "data.groupby(\"Language\").agg({\"Genre\": \"sum\"}).sort_values(by=\"Genre\", ascending=False)"
   ]
  },
  {
   "cell_type": "code",
   "execution_count": 31,
   "id": "59784dc6",
   "metadata": {},
   "outputs": [
    {
     "data": {
      "text/html": [
       "<div>\n",
       "<style scoped>\n",
       "    .dataframe tbody tr th:only-of-type {\n",
       "        vertical-align: middle;\n",
       "    }\n",
       "\n",
       "    .dataframe tbody tr th {\n",
       "        vertical-align: top;\n",
       "    }\n",
       "\n",
       "    .dataframe thead th {\n",
       "        text-align: right;\n",
       "    }\n",
       "</style>\n",
       "<table border=\"1\" class=\"dataframe\">\n",
       "  <thead>\n",
       "    <tr style=\"text-align: right;\">\n",
       "      <th></th>\n",
       "      <th>Runtime</th>\n",
       "      <th>IMDB Score</th>\n",
       "    </tr>\n",
       "  </thead>\n",
       "  <tbody>\n",
       "    <tr>\n",
       "      <th>0</th>\n",
       "      <td>58</td>\n",
       "      <td>2.5</td>\n",
       "    </tr>\n",
       "    <tr>\n",
       "      <th>1</th>\n",
       "      <td>81</td>\n",
       "      <td>2.6</td>\n",
       "    </tr>\n",
       "    <tr>\n",
       "      <th>2</th>\n",
       "      <td>79</td>\n",
       "      <td>2.6</td>\n",
       "    </tr>\n",
       "    <tr>\n",
       "      <th>3</th>\n",
       "      <td>94</td>\n",
       "      <td>3.2</td>\n",
       "    </tr>\n",
       "    <tr>\n",
       "      <th>4</th>\n",
       "      <td>90</td>\n",
       "      <td>3.4</td>\n",
       "    </tr>\n",
       "  </tbody>\n",
       "</table>\n",
       "</div>"
      ],
      "text/plain": [
       "   Runtime  IMDB Score\n",
       "0       58         2.5\n",
       "1       81         2.6\n",
       "2       79         2.6\n",
       "3       94         3.2\n",
       "4       90         3.4"
      ]
     },
     "execution_count": 31,
     "metadata": {},
     "output_type": "execute_result"
    }
   ],
   "source": [
    "data_table = data.copy()\n",
    "data_table = data_table.select_dtypes(include = [\"float64\", \"int64\"])\n",
    "data_table.head()"
   ]
  },
  {
   "cell_type": "code",
   "execution_count": 32,
   "id": "2e705bbb",
   "metadata": {},
   "outputs": [
    {
     "data": {
      "text/plain": [
       "'50 ‘ye kadar olan çizgide noktalar bulunmaktadır, bunlar diğer gözlem kutusuna \\ndahil edilmediğinden yani çeyreklerin yakınında hiçbir yerde bulunmadığından \\naykırı değerlerdir. Grafiğe baktığımızda, veri noktalarının çoğunun 100 civarlarında\\nolduğunu söyleyebiliriz, ancak soldaki noktalar popülasyondan uzakta \\nolan aykırı noktalardır.'"
      ]
     },
     "execution_count": 32,
     "metadata": {},
     "output_type": "execute_result"
    },
    {
     "data": {
      "image/png": "[encoded data removed]",
      "text/plain": [
       "<Figure size 432x288 with 1 Axes>"
      ]
     },
     "metadata": {},
     "output_type": "display_data"
    }
   ],
   "source": [
    "#Veri setinde outlier veri var mıdır\n",
    "data_table = data_table[\"Runtime\"].copy()\n",
    "sns.boxplot(x=data_table)\n",
    "\"\"\"50 ‘ye kadar olan çizgide noktalar bulunmaktadır, bunlar diğer gözlem kutusuna \n",
    "dahil edilmediğinden yani çeyreklerin yakınında hiçbir yerde bulunmadığından \n",
    "aykırı değerlerdir. Grafiğe baktığımızda, veri noktalarının çoğunun 100 civarlarında\n",
    "olduğunu söyleyebiliriz, ancak soldaki noktalar popülasyondan uzakta \n",
    "olan aykırı noktalardır.\"\"\""
   ]
  }
 ],
 "metadata": {
  "kernelspec": {
   "display_name": "Python 3",
   "language": "python",
   "name": "python3"
  },
  "language_info": {
   "codemirror_mode": {
    "name": "ipython",
    "version": 3
   },
   "file_extension": ".py",
   "mimetype": "text/x-python",
   "name": "python",
   "nbconvert_exporter": "python",
   "pygments_lexer": "ipython3",
   "version": "3.8.8"
  }
 },
 "nbformat": 4,
 "nbformat_minor": 5
}
